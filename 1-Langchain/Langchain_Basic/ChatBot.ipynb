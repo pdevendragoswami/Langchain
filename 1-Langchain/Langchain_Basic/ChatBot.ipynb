{
 "cells": [
  {
   "cell_type": "code",
   "execution_count": 1,
   "id": "47d13fbe",
   "metadata": {},
   "outputs": [],
   "source": [
    "import os\n",
    "from dotenv import load_dotenv\n",
    "load_dotenv()\n",
    "\n",
    "groq_api_key = os.getenv(\"GROQ_API_KEY\")"
   ]
  },
  {
   "cell_type": "code",
   "execution_count": 2,
   "id": "22f97419",
   "metadata": {},
   "outputs": [
    {
     "data": {
      "text/plain": [
       "ChatGroq(client=<groq.resources.chat.completions.Completions object at 0x7edc81f86680>, async_client=<groq.resources.chat.completions.AsyncCompletions object at 0x7edc81fb0880>, model_name='Gemma2-9b-It', model_kwargs={}, groq_api_key=SecretStr('**********'))"
      ]
     },
     "execution_count": 2,
     "metadata": {},
     "output_type": "execute_result"
    }
   ],
   "source": [
    "from langchain_groq import ChatGroq\n",
    "model = ChatGroq(model=\"Gemma2-9b-It\", groq_api_key= groq_api_key)\n",
    "model"
   ]
  },
  {
   "cell_type": "code",
   "execution_count": 3,
   "id": "99a0f9c9",
   "metadata": {},
   "outputs": [
    {
     "data": {
      "text/plain": [
       "AIMessage(content=\"Hi Devendra,\\n\\nIt's nice to meet you! As an AI, I don't have a name or personal experiences, but I'm here to assist you with any questions or tasks you may have related to AI.\\n\\nWhat can I do for you today?\\n\", additional_kwargs={}, response_metadata={'token_usage': {'completion_tokens': 60, 'prompt_tokens': 22, 'total_tokens': 82, 'completion_time': 0.109090909, 'prompt_time': 0.001379399, 'queue_time': 0.251720395, 'total_time': 0.110470308}, 'model_name': 'Gemma2-9b-It', 'system_fingerprint': 'fp_10c08bf97d', 'service_tier': 'on_demand', 'finish_reason': 'stop', 'logprobs': None}, id='run--2012176a-ea0a-455d-afa8-92cc834598a4-0', usage_metadata={'input_tokens': 22, 'output_tokens': 60, 'total_tokens': 82})"
      ]
     },
     "execution_count": 3,
     "metadata": {},
     "output_type": "execute_result"
    }
   ],
   "source": [
    "from langchain_core.messages import HumanMessage\n",
    "\n",
    "model.invoke([HumanMessage(content=\"Hi, My Name is Devendra and I am an AI Engineer\")])"
   ]
  },
  {
   "cell_type": "code",
   "execution_count": 4,
   "id": "9f88a6e8",
   "metadata": {},
   "outputs": [
    {
     "data": {
      "text/plain": [
       "AIMessage(content=\"You told me your name is Devendra and that you are an AI Engineer! 😊  \\n\\nIs there anything else you'd like to tell me about yourself or your work?  I'm happy to chat.  \\n\", additional_kwargs={}, response_metadata={'token_usage': {'completion_tokens': 48, 'prompt_tokens': 108, 'total_tokens': 156, 'completion_time': 0.087272727, 'prompt_time': 0.002883979, 'queue_time': 0.250103062, 'total_time': 0.090156706}, 'model_name': 'Gemma2-9b-It', 'system_fingerprint': 'fp_10c08bf97d', 'service_tier': 'on_demand', 'finish_reason': 'stop', 'logprobs': None}, id='run--8e0b90bb-957e-40c2-bb78-7fcd364cd4b1-0', usage_metadata={'input_tokens': 108, 'output_tokens': 48, 'total_tokens': 156})"
      ]
     },
     "execution_count": 4,
     "metadata": {},
     "output_type": "execute_result"
    }
   ],
   "source": [
    "from langchain_core.messages import AIMessage\n",
    "\n",
    "model.invoke(\n",
    "    [\n",
    "        HumanMessage(content=\"Hi, My Name is Devendra and I am an AI Engineer\"),\n",
    "        AIMessage(content=\"Hello Devendra!\\n\\nIt's nice to meet you. That's a fascinating field to be in.  \\n\\nWhat kind of AI engineering do you specialize in?  Are you working on any interesting projects right now? I'm always eager to learn more about what people are doing in the world of AI.\\n\"),\n",
    "        HumanMessage(content=\"Hey What is my name and What i do?\")\n",
    "        \n",
    "    ]\n",
    ")"
   ]
  },
  {
   "cell_type": "code",
   "execution_count": 5,
   "id": "4dc5d89b",
   "metadata": {},
   "outputs": [],
   "source": [
    "from langchain_community.chat_message_histories import ChatMessageHistory\n",
    "from langchain_core.chat_history import BaseChatMessageHistory\n",
    "from langchain_core.runnables.history import RunnableWithMessageHistory\n",
    "\n",
    "\n",
    "store = {}\n",
    "\n",
    "def get_session_history(session_id:str)->BaseChatMessageHistory:\n",
    "    if session_id not in store:\n",
    "        store[session_id] = ChatMessageHistory()\n",
    "    return store[session_id]\n",
    "\n",
    "\n",
    "with_message_history = RunnableWithMessageHistory(model,get_session_history)\n"
   ]
  },
  {
   "cell_type": "code",
   "execution_count": 6,
   "id": "35a2637d",
   "metadata": {},
   "outputs": [],
   "source": [
    "config = {\"configurable\":{\"session_id\":\"chat1\"}}"
   ]
  },
  {
   "cell_type": "code",
   "execution_count": 7,
   "id": "0b854e33",
   "metadata": {},
   "outputs": [],
   "source": [
    "response = with_message_history.invoke(\n",
    "    [HumanMessage(content=\"Hi, My Name is Devendra and I am an AI Engineer\")],\n",
    "    config=config\n",
    ")"
   ]
  },
  {
   "cell_type": "code",
   "execution_count": 8,
   "id": "57bfa731",
   "metadata": {},
   "outputs": [
    {
     "data": {
      "text/plain": [
       "AIMessage(content=\"Hi Devendra, it's nice to meet you! \\n\\nThat's awesome that you're an AI Engineer. What kind of projects are you working on?  \\n\\nI'm always interested in learning more about the work that people are doing in the field of AI.\\n\", additional_kwargs={}, response_metadata={'token_usage': {'completion_tokens': 61, 'prompt_tokens': 22, 'total_tokens': 83, 'completion_time': 0.110909091, 'prompt_time': 0.00132341, 'queue_time': 0.251397144, 'total_time': 0.112232501}, 'model_name': 'Gemma2-9b-It', 'system_fingerprint': 'fp_10c08bf97d', 'service_tier': 'on_demand', 'finish_reason': 'stop', 'logprobs': None}, id='run--60116dfa-0480-499e-9238-d456d721beea-0', usage_metadata={'input_tokens': 22, 'output_tokens': 61, 'total_tokens': 83})"
      ]
     },
     "execution_count": 8,
     "metadata": {},
     "output_type": "execute_result"
    }
   ],
   "source": [
    "response"
   ]
  },
  {
   "cell_type": "code",
   "execution_count": 9,
   "id": "3eee18f0",
   "metadata": {},
   "outputs": [
    {
     "data": {
      "text/plain": [
       "\"Hi Devendra, it's nice to meet you! \\n\\nThat's awesome that you're an AI Engineer. What kind of projects are you working on?  \\n\\nI'm always interested in learning more about the work that people are doing in the field of AI.\\n\""
      ]
     },
     "execution_count": 9,
     "metadata": {},
     "output_type": "execute_result"
    }
   ],
   "source": [
    "response.content"
   ]
  },
  {
   "cell_type": "code",
   "execution_count": 10,
   "id": "f6d8e4c5",
   "metadata": {},
   "outputs": [
    {
     "data": {
      "text/plain": [
       "AIMessage(content='Your name is Devendra.  😊 \\n\\nI remember that from our introduction!  \\n\\n\\n\\n\\n', additional_kwargs={}, response_metadata={'token_usage': {'completion_tokens': 22, 'prompt_tokens': 95, 'total_tokens': 117, 'completion_time': 0.04, 'prompt_time': 0.002969928, 'queue_time': 0.258097381, 'total_time': 0.042969928}, 'model_name': 'Gemma2-9b-It', 'system_fingerprint': 'fp_10c08bf97d', 'service_tier': 'on_demand', 'finish_reason': 'stop', 'logprobs': None}, id='run--b406d455-9d0f-4355-92b7-7078cdc52687-0', usage_metadata={'input_tokens': 95, 'output_tokens': 22, 'total_tokens': 117})"
      ]
     },
     "execution_count": 10,
     "metadata": {},
     "output_type": "execute_result"
    }
   ],
   "source": [
    "with_message_history.invoke(\n",
    "    [HumanMessage(content=\"What is my name\")],\n",
    "    config=config\n",
    ")"
   ]
  },
  {
   "cell_type": "code",
   "execution_count": 11,
   "id": "1067b269",
   "metadata": {},
   "outputs": [
    {
     "data": {
      "text/plain": [
       "AIMessage(content='You told me your name is Devendra.  \\n\\nIs there something else I can help you with?\\n', additional_kwargs={}, response_metadata={'token_usage': {'completion_tokens': 24, 'prompt_tokens': 128, 'total_tokens': 152, 'completion_time': 0.043636364, 'prompt_time': 0.003383149, 'queue_time': 0.252608495, 'total_time': 0.047019513}, 'model_name': 'Gemma2-9b-It', 'system_fingerprint': 'fp_10c08bf97d', 'service_tier': 'on_demand', 'finish_reason': 'stop', 'logprobs': None}, id='run--b6959422-2d1c-4a4f-9313-0e0b19abd417-0', usage_metadata={'input_tokens': 128, 'output_tokens': 24, 'total_tokens': 152})"
      ]
     },
     "execution_count": 11,
     "metadata": {},
     "output_type": "execute_result"
    }
   ],
   "source": [
    "# changing the config\n",
    "\n",
    "config1 = {\"configurable\":{\"session_id\":\"chat1\"}}\n",
    "with_message_history.invoke(\n",
    "    [HumanMessage(content=\"What is my name\")],\n",
    "    config=config1\n",
    ")"
   ]
  },
  {
   "cell_type": "code",
   "execution_count": 12,
   "id": "2fe3386c",
   "metadata": {},
   "outputs": [
    {
     "data": {
      "text/plain": [
       "AIMessage(content=\"As an AI, I have no memory of past conversations and do not know your name. If you'd like to tell me your name, I'd be happy to remember it for this conversation.\\n\", additional_kwargs={}, response_metadata={'token_usage': {'completion_tokens': 44, 'prompt_tokens': 13, 'total_tokens': 57, 'completion_time': 0.08, 'prompt_time': 0.00124539, 'queue_time': 0.264941193, 'total_time': 0.08124539}, 'model_name': 'Gemma2-9b-It', 'system_fingerprint': 'fp_10c08bf97d', 'service_tier': 'on_demand', 'finish_reason': 'stop', 'logprobs': None}, id='run--6df6dcc0-0e1e-4f81-9c9f-f929e94a5a88-0', usage_metadata={'input_tokens': 13, 'output_tokens': 44, 'total_tokens': 57})"
      ]
     },
     "execution_count": 12,
     "metadata": {},
     "output_type": "execute_result"
    }
   ],
   "source": [
    "config1 = {\"configurable\":{\"session_id\":\"chat2\"}}\n",
    "with_message_history.invoke(\n",
    "    [HumanMessage(content=\"What is my name\")],\n",
    "    config=config1\n",
    ")"
   ]
  },
  {
   "cell_type": "code",
   "execution_count": 13,
   "id": "741e7114",
   "metadata": {},
   "outputs": [
    {
     "data": {
      "text/plain": [
       "AIMessage(content=\"Hello Sam, it's nice to meet you!  What can I do for you today?\\n\", additional_kwargs={}, response_metadata={'token_usage': {'completion_tokens': 23, 'prompt_tokens': 69, 'total_tokens': 92, 'completion_time': 0.041818182, 'prompt_time': 0.002268139, 'queue_time': 0.251700201, 'total_time': 0.044086321}, 'model_name': 'Gemma2-9b-It', 'system_fingerprint': 'fp_10c08bf97d', 'service_tier': 'on_demand', 'finish_reason': 'stop', 'logprobs': None}, id='run--d89caade-8ee8-4f40-9e2c-a08d9dbc55b4-0', usage_metadata={'input_tokens': 69, 'output_tokens': 23, 'total_tokens': 92})"
      ]
     },
     "execution_count": 13,
     "metadata": {},
     "output_type": "execute_result"
    }
   ],
   "source": [
    "with_message_history.invoke(\n",
    "    [HumanMessage(content=\"My Name is Sam\")],\n",
    "    config=config1\n",
    ")"
   ]
  },
  {
   "cell_type": "code",
   "execution_count": 14,
   "id": "17a55e6a",
   "metadata": {},
   "outputs": [
    {
     "data": {
      "text/plain": [
       "AIMessage(content='Your name is Sam.  \\n\\nIs there anything else I can help you with, Sam?\\n', additional_kwargs={}, response_metadata={'token_usage': {'completion_tokens': 22, 'prompt_tokens': 104, 'total_tokens': 126, 'completion_time': 0.04, 'prompt_time': 0.002805369, 'queue_time': 0.25098082, 'total_time': 0.042805369}, 'model_name': 'Gemma2-9b-It', 'system_fingerprint': 'fp_10c08bf97d', 'service_tier': 'on_demand', 'finish_reason': 'stop', 'logprobs': None}, id='run--cc938c70-986d-43d3-9b76-ba1c6053019f-0', usage_metadata={'input_tokens': 104, 'output_tokens': 22, 'total_tokens': 126})"
      ]
     },
     "execution_count": 14,
     "metadata": {},
     "output_type": "execute_result"
    }
   ],
   "source": [
    "with_message_history.invoke(\n",
    "    [HumanMessage(content=\"What is my name\")],\n",
    "    config=config1\n",
    ")"
   ]
  },
  {
   "cell_type": "markdown",
   "id": "4cd1f05f",
   "metadata": {},
   "source": [
    "Prompt Template"
   ]
  },
  {
   "cell_type": "code",
   "execution_count": 15,
   "id": "160ecdc7",
   "metadata": {},
   "outputs": [],
   "source": [
    "from langchain_core.prompts import ChatPromptTemplate, MessagesPlaceholder\n",
    "\n",
    "prompt = ChatPromptTemplate.from_messages(\n",
    "    [\n",
    "        (\"system\",\"You are a helpful assistant\"),\n",
    "        MessagesPlaceholder(variable_name=\"messages\")\n",
    "    ]\n",
    ")\n",
    "\n",
    "chain = prompt|model"
   ]
  },
  {
   "cell_type": "code",
   "execution_count": 16,
   "id": "485e8d47",
   "metadata": {},
   "outputs": [
    {
     "data": {
      "text/plain": [
       "AIMessage(content=\"Hello Devendra, it's nice to meet you! \\n\\nHow can I be of help today? 😄  \\n\\n\", additional_kwargs={}, response_metadata={'token_usage': {'completion_tokens': 28, 'prompt_tokens': 19, 'total_tokens': 47, 'completion_time': 0.050909091, 'prompt_time': 0.001322809, 'queue_time': 0.253128841, 'total_time': 0.0522319}, 'model_name': 'Gemma2-9b-It', 'system_fingerprint': 'fp_10c08bf97d', 'service_tier': 'on_demand', 'finish_reason': 'stop', 'logprobs': None}, id='run--228ab9b5-581a-4fd6-bd68-abc324aa8cd7-0', usage_metadata={'input_tokens': 19, 'output_tokens': 28, 'total_tokens': 47})"
      ]
     },
     "execution_count": 16,
     "metadata": {},
     "output_type": "execute_result"
    }
   ],
   "source": [
    "chain.invoke({\"messages\":[HumanMessage(content=\"My name is Devendra\")]})"
   ]
  },
  {
   "cell_type": "code",
   "execution_count": 17,
   "id": "d264c25e",
   "metadata": {},
   "outputs": [],
   "source": [
    "with_message_history = RunnableWithMessageHistory(chain, get_session_history)"
   ]
  },
  {
   "cell_type": "code",
   "execution_count": 18,
   "id": "c3d7aa44",
   "metadata": {},
   "outputs": [
    {
     "data": {
      "text/plain": [
       "AIMessage(content=\"Hello Devendra! It's nice to meet you.\\n\\nAs a helpful AI assistant, I'm here to assist you in any way I can.  \\n\\nBeing an AI Engineer myself (in a way!), I understand you might have some technical questions or need help brainstorming ideas.  \\n\\nHow can I help you today?  😊  \\n\\n\", additional_kwargs={}, response_metadata={'token_usage': {'completion_tokens': 74, 'prompt_tokens': 25, 'total_tokens': 99, 'completion_time': 0.134545455, 'prompt_time': 0.00140975, 'queue_time': 0.251884184, 'total_time': 0.135955205}, 'model_name': 'Gemma2-9b-It', 'system_fingerprint': 'fp_10c08bf97d', 'service_tier': 'on_demand', 'finish_reason': 'stop', 'logprobs': None}, id='run--f85890ce-32d0-4e86-866d-6ace5a70e76e-0', usage_metadata={'input_tokens': 25, 'output_tokens': 74, 'total_tokens': 99})"
      ]
     },
     "execution_count": 18,
     "metadata": {},
     "output_type": "execute_result"
    }
   ],
   "source": [
    "config = {\"configurable\":{\"session_id\":\"chat3\"}}\n",
    "response = with_message_history.invoke(\n",
    "    [HumanMessage(content=\"My Name is Devendra and I am an AI Engineer\")],\n",
    "    config=config\n",
    ")\n",
    "\n",
    "response"
   ]
  },
  {
   "cell_type": "code",
   "execution_count": 19,
   "id": "a03c2cad",
   "metadata": {},
   "outputs": [
    {
     "data": {
      "text/plain": [
       "AIMessage(content=\"That's a great question!  As an AI Engineer, the possibilities are vast! \\n\\nHere are some things AI Engineers like you do:\\n\\n**Core AI Development:**\\n\\n* **Build and train AI models:** This involves selecting the right algorithms, preparing and cleaning data, training the models, and evaluating their performance.\\n* **Research new AI techniques:**  Staying at the forefront of AI means constantly exploring new algorithms, architectures, and applications.\\n* **Develop AI software and applications:**  You might create everything from chatbots and image recognition systems to self-driving car software.\\n\\n**Applying AI to Real-World Problems:**\\n\\n* **Solve business problems:** AI can be used to optimize processes, personalize customer experiences, and make better predictions.\\n* **Advance scientific research:**  AI is used in fields like medicine, genomics, and materials science to analyze data, discover patterns, and accelerate research.\\n* **Create innovative products and services:** Think about new ways AI can be used to improve people's lives.\\n\\n**Other Important Tasks:**\\n\\n* **Data engineering:**  AI relies heavily on data, so you might be involved in collecting, cleaning, and organizing large datasets.\\n* **MLOps (Machine Learning Operations):** This involves deploying and managing AI models in production environments.\\n* **Collaboration:** AI Engineering is often a team effort, so you'll work with other engineers, researchers, and stakeholders.\\n\\n**To get started, consider:**\\n\\n* **Strengthening your programming skills (Python is essential).**\\n* **Learning about machine learning algorithms and concepts.**\\n* **Building small AI projects to gain practical experience.**\\n* **Exploring online courses and resources.**\\n\\n\\nWhat are you most interested in within AI Engineering?  I can give you more specific advice based on your passions!\\n\", additional_kwargs={}, response_metadata={'token_usage': {'completion_tokens': 375, 'prompt_tokens': 110, 'total_tokens': 485, 'completion_time': 0.681818182, 'prompt_time': 0.003285018, 'queue_time': 0.251953046, 'total_time': 0.6851032}, 'model_name': 'Gemma2-9b-It', 'system_fingerprint': 'fp_10c08bf97d', 'service_tier': 'on_demand', 'finish_reason': 'stop', 'logprobs': None}, id='run--7bdc02c6-b98e-4d19-9eca-f6abb5f434b2-0', usage_metadata={'input_tokens': 110, 'output_tokens': 375, 'total_tokens': 485})"
      ]
     },
     "execution_count": 19,
     "metadata": {},
     "output_type": "execute_result"
    }
   ],
   "source": [
    "with_message_history.invoke(\n",
    "    [HumanMessage(content=\"What i DO?\")],\n",
    "    config=config\n",
    ")"
   ]
  },
  {
   "cell_type": "code",
   "execution_count": 20,
   "id": "8ecb4677",
   "metadata": {},
   "outputs": [],
   "source": [
    "# Add some more complexity\n",
    "\n",
    "promt = ChatPromptTemplate.from_messages(\n",
    "    [\n",
    "        (\"system\",\"You are a helpful Assistant. No matter what language the user uses, always reply entirely in {language}.\"),\n",
    "        MessagesPlaceholder(variable_name=\"messages\")\n",
    "    ]\n",
    ")\n",
    "\n",
    "chain = prompt| model\n"
   ]
  },
  {
   "cell_type": "code",
   "execution_count": 21,
   "id": "25a33744",
   "metadata": {},
   "outputs": [
    {
     "data": {
      "text/plain": [
       "AIMessage(content=\"Hello Devendra, it's nice to meet you!  \\n\\nHow can I help you today? 😊 \\n\\n\", additional_kwargs={}, response_metadata={'token_usage': {'completion_tokens': 27, 'prompt_tokens': 19, 'total_tokens': 46, 'completion_time': 0.049090909, 'prompt_time': 0.0013341, 'queue_time': 0.252475584, 'total_time': 0.050425009}, 'model_name': 'Gemma2-9b-It', 'system_fingerprint': 'fp_10c08bf97d', 'service_tier': 'on_demand', 'finish_reason': 'stop', 'logprobs': None}, id='run--18ade080-01c3-4b68-87f8-27d098a77826-0', usage_metadata={'input_tokens': 19, 'output_tokens': 27, 'total_tokens': 46})"
      ]
     },
     "execution_count": 21,
     "metadata": {},
     "output_type": "execute_result"
    }
   ],
   "source": [
    "response = chain.invoke({\"messages\":[HumanMessage(content=\"My name is Devendra\")],\"language\":\"Hindi\"})\n",
    "response"
   ]
  },
  {
   "cell_type": "code",
   "execution_count": 22,
   "id": "55221c1a",
   "metadata": {},
   "outputs": [],
   "source": [
    "with_message_history = RunnableWithMessageHistory(chain,get_session_history,input_messages_key=\"messages\")"
   ]
  },
  {
   "cell_type": "code",
   "execution_count": 23,
   "id": "33cc7961",
   "metadata": {},
   "outputs": [],
   "source": [
    "config = {\"configurable\":{\"session_id\":\"chat4\"}}\n",
    "\n",
    "response = with_message_history.invoke(\n",
    "    {\"messages\":[HumanMessage(content=\"Hi , My name is Devendra\")],\"language\":\"Hindi\"},\n",
    "    config=config\n",
    "\n",
    ")"
   ]
  },
  {
   "cell_type": "code",
   "execution_count": 24,
   "id": "d9ee80f3",
   "metadata": {},
   "outputs": [
    {
     "data": {
      "text/plain": [
       "AIMessage(content=\"Hi Devendra, it's nice to meet you!  \\n\\nHow can I help you today? 😊  \\n\\n\", additional_kwargs={}, response_metadata={'token_usage': {'completion_tokens': 27, 'prompt_tokens': 21, 'total_tokens': 48, 'completion_time': 0.049090909, 'prompt_time': 0.001327519, 'queue_time': 0.253237581, 'total_time': 0.050418428}, 'model_name': 'Gemma2-9b-It', 'system_fingerprint': 'fp_10c08bf97d', 'service_tier': 'on_demand', 'finish_reason': 'stop', 'logprobs': None}, id='run--3bf55393-05a7-4498-9bf2-f69c172ffa4b-0', usage_metadata={'input_tokens': 21, 'output_tokens': 27, 'total_tokens': 48})"
      ]
     },
     "execution_count": 24,
     "metadata": {},
     "output_type": "execute_result"
    }
   ],
   "source": [
    "response"
   ]
  },
  {
   "cell_type": "code",
   "execution_count": 25,
   "id": "615554d3",
   "metadata": {},
   "outputs": [
    {
     "data": {
      "text/plain": [
       "AIMessage(content='Your name is Devendra.  I remember! 😄  \\n\\nWas there anything else I could help you with? \\n\\n\\n\\n', additional_kwargs={}, response_metadata={'token_usage': {'completion_tokens': 27, 'prompt_tokens': 59, 'total_tokens': 86, 'completion_time': 0.049090909, 'prompt_time': 0.00178708, 'queue_time': 0.251066554, 'total_time': 0.050877989}, 'model_name': 'Gemma2-9b-It', 'system_fingerprint': 'fp_10c08bf97d', 'service_tier': 'on_demand', 'finish_reason': 'stop', 'logprobs': None}, id='run--1f20d132-a357-4aaf-ba6e-a57c61f5e26a-0', usage_metadata={'input_tokens': 59, 'output_tokens': 27, 'total_tokens': 86})"
      ]
     },
     "execution_count": 25,
     "metadata": {},
     "output_type": "execute_result"
    }
   ],
   "source": [
    "with_message_history.invoke(\n",
    "    {\"messages\":[HumanMessage(content=\"What is my name\")],\"language\":\"Hindi\"},\n",
    "    config=config\n",
    "\n",
    ")"
   ]
  },
  {
   "cell_type": "markdown",
   "id": "384a1f73",
   "metadata": {},
   "source": [
    "Mananging Conversation History"
   ]
  },
  {
   "cell_type": "code",
   "execution_count": 26,
   "id": "63d46257",
   "metadata": {},
   "outputs": [],
   "source": [
    "from langchain_core.messages import SystemMessage,trim_messages\n",
    "trimmer = trim_messages(\n",
    "    max_tokens = 80,\n",
    "    strategy = \"last\",\n",
    "    token_counter = model,\n",
    "    include_system = True,\n",
    "    allow_partial = False,\n",
    "    start_on = \"human\"\n",
    ")"
   ]
  },
  {
   "cell_type": "code",
   "execution_count": 27,
   "id": "3873a28c",
   "metadata": {},
   "outputs": [],
   "source": [
    "messages = [\n",
    "    SystemMessage(content=\"you are a good assistent\"),\n",
    "    HumanMessage(content=\"Hi I'm Devendra\"),\n",
    "    AIMessage(content=\"hi\"),\n",
    "    HumanMessage(content=\"Hi I like the vanila icecream\"),\n",
    "    AIMessage(content=\"nice\"),\n",
    "    HumanMessage(content=\"What's 2+2\"),\n",
    "    AIMessage(content=\"4\"),\n",
    "    HumanMessage(content=\"thanks\"),\n",
    "    AIMessage(content=\"no problem\"),\n",
    "    HumanMessage(content=\"having fun?\"),\n",
    "    AIMessage(content=\"yes\"),\n",
    "\n",
    "]"
   ]
  },
  {
   "cell_type": "code",
   "execution_count": 28,
   "id": "0c5fad30",
   "metadata": {},
   "outputs": [
    {
     "name": "stderr",
     "output_type": "stream",
     "text": [
      "/home/devendra/Desktop/Udemy_Generative_AI_With_Langchain_and_Huggingface_2024/Project/Langchain/langchain_env/lib/python3.10/site-packages/tqdm/auto.py:21: TqdmWarning: IProgress not found. Please update jupyter and ipywidgets. See https://ipywidgets.readthedocs.io/en/stable/user_install.html\n",
      "  from .autonotebook import tqdm as notebook_tqdm\n"
     ]
    },
    {
     "data": {
      "text/plain": [
       "[SystemMessage(content='you are a good assistent', additional_kwargs={}, response_metadata={}),\n",
       " HumanMessage(content=\"Hi I'm Devendra\", additional_kwargs={}, response_metadata={}),\n",
       " AIMessage(content='hi', additional_kwargs={}, response_metadata={}),\n",
       " HumanMessage(content='Hi I like the vanila icecream', additional_kwargs={}, response_metadata={}),\n",
       " AIMessage(content='nice', additional_kwargs={}, response_metadata={}),\n",
       " HumanMessage(content=\"What's 2+2\", additional_kwargs={}, response_metadata={}),\n",
       " AIMessage(content='4', additional_kwargs={}, response_metadata={}),\n",
       " HumanMessage(content='thanks', additional_kwargs={}, response_metadata={}),\n",
       " AIMessage(content='no problem', additional_kwargs={}, response_metadata={}),\n",
       " HumanMessage(content='having fun?', additional_kwargs={}, response_metadata={}),\n",
       " AIMessage(content='yes', additional_kwargs={}, response_metadata={})]"
      ]
     },
     "execution_count": 28,
     "metadata": {},
     "output_type": "execute_result"
    }
   ],
   "source": [
    "trimmer.invoke(messages)"
   ]
  },
  {
   "cell_type": "code",
   "execution_count": 29,
   "id": "11bd31c9",
   "metadata": {},
   "outputs": [],
   "source": [
    "from operator import itemgetter\n",
    "from langchain_core.runnables import RunnablePassthrough\n",
    "\n",
    "chain = (\n",
    "    RunnablePassthrough.assign(messages=itemgetter(\"messages\")|trimmer)\n",
    "    | prompt\n",
    "    | model\n",
    ")"
   ]
  },
  {
   "cell_type": "code",
   "execution_count": 30,
   "id": "73cecaab",
   "metadata": {},
   "outputs": [
    {
     "data": {
      "text/plain": [
       "AIMessage(content='You said you like vanilla ice cream! 🍦  😊\\n', additional_kwargs={}, response_metadata={'token_usage': {'completion_tokens': 15, 'prompt_tokens': 109, 'total_tokens': 124, 'completion_time': 0.027272727, 'prompt_time': 0.003439509, 'queue_time': 0.252235175, 'total_time': 0.030712236}, 'model_name': 'Gemma2-9b-It', 'system_fingerprint': 'fp_10c08bf97d', 'service_tier': 'on_demand', 'finish_reason': 'stop', 'logprobs': None}, id='run--8a44ec76-0271-4347-823e-b295070177a6-0', usage_metadata={'input_tokens': 109, 'output_tokens': 15, 'total_tokens': 124})"
      ]
     },
     "execution_count": 30,
     "metadata": {},
     "output_type": "execute_result"
    }
   ],
   "source": [
    "chain.invoke(\n",
    "    {\n",
    "        \"messages\": messages + [HumanMessage(content=\"what icecream do i like?\")],\n",
    "        \"language\":\"English\"\n",
    "    }\n",
    ")"
   ]
  },
  {
   "cell_type": "code",
   "execution_count": 31,
   "id": "f4c4d6b2",
   "metadata": {},
   "outputs": [
    {
     "data": {
      "text/plain": [
       "AIMessage(content='You asked: \"What\\'s 2+2?\" \\n\\nThe answer is 4. 🍦  😊 \\n', additional_kwargs={}, response_metadata={'token_usage': {'completion_tokens': 28, 'prompt_tokens': 112, 'total_tokens': 140, 'completion_time': 0.050909091, 'prompt_time': 0.002805839, 'queue_time': 0.252698061, 'total_time': 0.05371493}, 'model_name': 'Gemma2-9b-It', 'system_fingerprint': 'fp_10c08bf97d', 'service_tier': 'on_demand', 'finish_reason': 'stop', 'logprobs': None}, id='run--98761937-8748-405f-915b-ce557a42ab60-0', usage_metadata={'input_tokens': 112, 'output_tokens': 28, 'total_tokens': 140})"
      ]
     },
     "execution_count": 31,
     "metadata": {},
     "output_type": "execute_result"
    }
   ],
   "source": [
    "chain.invoke(\n",
    "    {\n",
    "        \"messages\":messages + [HumanMessage(content=\"what maths problem i asked and what is the answer\")],\n",
    "        \"language\":\"English\"\n",
    "    }\n",
    ")"
   ]
  },
  {
   "cell_type": "code",
   "execution_count": 32,
   "id": "8b03755e",
   "metadata": {},
   "outputs": [],
   "source": [
    "# let wrap this into the message history\n",
    "\n",
    "with_message_history = RunnableWithMessageHistory(\n",
    "    chain,\n",
    "    get_session_history,\n",
    "    input_messages_key=\"messages\"\n",
    ")\n",
    "\n",
    "config = {\"configurable\":{\"session_id\":\"chat5\"}}"
   ]
  },
  {
   "cell_type": "code",
   "execution_count": 33,
   "id": "0349d72c",
   "metadata": {},
   "outputs": [
    {
     "data": {
      "text/plain": [
       "AIMessage(content='Your name is Devendra. 😊  \\n\\nI remember what you told me earlier!\\n', additional_kwargs={}, response_metadata={'token_usage': {'completion_tokens': 20, 'prompt_tokens': 107, 'total_tokens': 127, 'completion_time': 0.036363636, 'prompt_time': 0.002731319, 'queue_time': 0.252075651, 'total_time': 0.039094955}, 'model_name': 'Gemma2-9b-It', 'system_fingerprint': 'fp_10c08bf97d', 'service_tier': 'on_demand', 'finish_reason': 'stop', 'logprobs': None}, id='run--8a988815-1103-42e5-b59b-327fc5e88477-0', usage_metadata={'input_tokens': 107, 'output_tokens': 20, 'total_tokens': 127})"
      ]
     },
     "execution_count": 33,
     "metadata": {},
     "output_type": "execute_result"
    }
   ],
   "source": [
    "chain.invoke(\n",
    "    {\n",
    "        \"messages\":messages + [HumanMessage(content=\"what is my name?\")],\n",
    "        \"language\":\"English\"\n",
    "    },\n",
    "    config=config\n",
    ")"
   ]
  },
  {
   "cell_type": "code",
   "execution_count": null,
   "id": "d42ce613",
   "metadata": {},
   "outputs": [],
   "source": []
  }
 ],
 "metadata": {
  "kernelspec": {
   "display_name": "langchain_env",
   "language": "python",
   "name": "python3"
  },
  "language_info": {
   "codemirror_mode": {
    "name": "ipython",
    "version": 3
   },
   "file_extension": ".py",
   "mimetype": "text/x-python",
   "name": "python",
   "nbconvert_exporter": "python",
   "pygments_lexer": "ipython3",
   "version": "3.10.12"
  }
 },
 "nbformat": 4,
 "nbformat_minor": 5
}
