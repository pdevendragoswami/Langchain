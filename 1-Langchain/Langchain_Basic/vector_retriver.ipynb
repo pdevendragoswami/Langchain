{
 "cells": [
  {
   "cell_type": "code",
   "execution_count": null,
   "id": "c245160c",
   "metadata": {},
   "outputs": [],
   "source": [
    "import"
   ]
  }
 ],
 "metadata": {
  "kernelspec": {
   "display_name": "langchain_env",
   "language": "python",
   "name": "python3"
  },
  "language_info": {
   "name": "python",
   "version": "3.10.0"
  }
 },
 "nbformat": 4,
 "nbformat_minor": 5
}
